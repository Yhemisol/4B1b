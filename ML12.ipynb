{
  "nbformat": 4,
  "nbformat_minor": 0,
  "metadata": {
    "colab": {
      "provenance": [],
      "authorship_tag": "ABX9TyOsrI78i0ZgeekuQfVCqO0d",
      "include_colab_link": true
    },
    "kernelspec": {
      "name": "python3",
      "display_name": "Python 3"
    },
    "language_info": {
      "name": "python"
    }
  },
  "cells": [
    {
      "cell_type": "markdown",
      "metadata": {
        "id": "view-in-github",
        "colab_type": "text"
      },
      "source": [
        "<a href=\"https://colab.research.google.com/github/Yhemisol/4B1b/blob/master/ML12.ipynb\" target=\"_parent\"><img src=\"https://colab.research.google.com/assets/colab-badge.svg\" alt=\"Open In Colab\"/></a>"
      ]
    },
    {
      "cell_type": "code",
      "execution_count": 1,
      "metadata": {
        "colab": {
          "base_uri": "https://localhost:8080/"
        },
        "id": "qti8PmJ8oYye",
        "outputId": "0a484e92-6b07-4e9c-e81a-731d130ba702"
      },
      "outputs": [
        {
          "output_type": "stream",
          "name": "stdout",
          "text": [
            "Accuracy of K-Nearest Neighbors classifier on the test set: 0.87\n",
            "Accuracy of Logistic Regression model on the test set: 1.00\n"
          ]
        }
      ],
      "source": [
        "import numpy as np\n",
        "from sklearn import datasets\n",
        "from sklearn.neighbors import KNeighborsClassifier\n",
        "from sklearn.linear_model import LogisticRegression\n",
        "from sklearn.metrics import accuracy_score\n",
        "from sklearn.preprocessing import StandardScaler\n",
        "\n",
        "# Load the iris dataset\n",
        "iris = datasets.load_iris()\n",
        "X = iris.data\n",
        "y = iris.target\n",
        "\n",
        "# Determine the split point for 90% training and 10% testing\n",
        "num_training_samples = int(len(X) * 0.9)\n",
        "\n",
        "# Split the data\n",
        "X_train = X[:num_training_samples]\n",
        "X_test = X[num_training_samples:]\n",
        "y_train = y[:num_training_samples]\n",
        "y_test = y[num_training_samples:]\n",
        "\n",
        "# Standardize the features\n",
        "scaler = StandardScaler()\n",
        "X_train = scaler.fit_transform(X_train)\n",
        "X_test = scaler.transform(X_test)\n",
        "\n",
        "# Create and train a K-Nearest Neighbors classifier\n",
        "knn = KNeighborsClassifier(n_neighbors=3)\n",
        "knn.fit(X_train, y_train)\n",
        "\n",
        "# Create and train a Logistic Regression model\n",
        "log_reg = LogisticRegression(max_iter=200)\n",
        "log_reg.fit(X_train, y_train)\n",
        "\n",
        "# Predict the test set results using both models\n",
        "knn_predictions = knn.predict(X_test)\n",
        "log_reg_predictions = log_reg.predict(X_test)\n",
        "\n",
        "# Evaluate and print accuracy of both models\n",
        "knn_accuracy = accuracy_score(y_test, knn_predictions)\n",
        "log_reg_accuracy = accuracy_score(y_test, log_reg_predictions)\n",
        "\n",
        "print(f\"Accuracy of K-Nearest Neighbors classifier on the test set: {knn_accuracy:.2f}\")\n",
        "print(f\"Accuracy of Logistic Regression model on the test set: {log_reg_accuracy:.2f}\")\n"
      ]
    },
    {
      "cell_type": "code",
      "source": [
        "import numpy as np\n",
        "from sklearn import datasets\n",
        "from sklearn.neighbors import KNeighborsClassifier\n",
        "from sklearn.linear_model import LogisticRegression\n",
        "from sklearn.metrics import accuracy_score\n",
        "from sklearn.preprocessing import StandardScaler\n",
        "\n",
        "# Load the iris dataset\n",
        "iris = datasets.load_iris()\n",
        "X = iris.data\n",
        "y = iris.target\n",
        "\n",
        "# Determine the split point for 90% training and 10% testing\n",
        "num_training_samples = int(len(X) * 0.9)\n",
        "\n",
        "# Split the data\n",
        "X_train = X[:num_training_samples]\n",
        "X_test = X[num_training_samples:]\n",
        "y_train = y[:num_training_samples]\n",
        "y_test = y[num_training_samples:]\n",
        "\n",
        "# Standardize the features\n",
        "scaler = StandardScaler()\n",
        "X_train = scaler.fit_transform(X_train)\n",
        "X_test = scaler.transform(X_test)\n",
        "\n",
        "# Create and train a K-Nearest Neighbors classifier\n",
        "knn = KNeighborsClassifier(n_neighbors=3)\n",
        "knn.fit(X_train, y_train)\n",
        "\n",
        "# Create and train a Logistic Regression model\n",
        "log_reg = LogisticRegression(max_iter=200)\n",
        "log_reg.fit(X_train, y_train)\n",
        "\n",
        "# Predict the test set results using both models\n",
        "knn_predictions = knn.predict(X_test)\n",
        "log_reg_predictions = log_reg.predict(X_test)\n",
        "\n",
        "# Evaluate and print accuracy of both models\n",
        "knn_accuracy = accuracy_score(y_test, knn_predictions)\n",
        "log_reg_accuracy = accuracy_score(y_test, log_reg_predictions)\n",
        "\n",
        "print(f\"Accuracy of K-Nearest Neighbors classifier on the test set: {knn_accuracy:.2f}\")\n",
        "print(f\"Accuracy of Logistic Regression model on the test set: {log_reg_accuracy:.2f}\")\n"
      ],
      "metadata": {
        "colab": {
          "base_uri": "https://localhost:8080/"
        },
        "id": "nZXQkzvKoa4D",
        "outputId": "42591506-bafa-49e2-dd0c-b14cdc11b4d6"
      },
      "execution_count": 2,
      "outputs": [
        {
          "output_type": "stream",
          "name": "stdout",
          "text": [
            "Accuracy of K-Nearest Neighbors classifier on the test set: 0.87\n",
            "Accuracy of Logistic Regression model on the test set: 1.00\n"
          ]
        }
      ]
    },
    {
      "cell_type": "code",
      "source": [
        "import numpy as np\n",
        "from sklearn import datasets\n",
        "from sklearn.svm import SVC\n",
        "from sklearn.model_selection import train_test_split\n",
        "from sklearn.metrics import accuracy_score\n",
        "from sklearn.preprocessing import StandardScaler\n",
        "\n",
        "# Load the iris dataset\n",
        "iris = datasets.load_iris()\n",
        "X = iris.data[:, :2]  # Using only the first two features: sepal length and sepal width\n",
        "y = iris.target\n",
        "\n",
        "# Filter data to include only class 1 and class 2\n",
        "is_class1_or_class2 = (y == 1) | (y == 2)\n",
        "X = X[is_class1_or_class2]\n",
        "y = y[is_class1_or_class2]\n",
        "\n",
        "# Split the dataset into training (90%) and test (10%) set\n",
        "X_train, X_test, y_train, y_test = train_test_split(X, y, test_size=0.1, random_state=42, stratify=y)\n",
        "\n",
        "# Standardize features by removing the mean and scaling to unit variance\n",
        "scaler = StandardScaler()\n",
        "X_train = scaler.fit_transform(X_train)\n",
        "X_test = scaler.transform(X_test)\n",
        "\n",
        "# Create a SVM classifier with the radial basis function (RBF) kernel\n",
        "svm_classifier = SVC(kernel='rbf', gamma='scale')  # using 'scale' as it's generally a better option than 'auto'\n",
        "\n",
        "# Train the SVM classifier\n",
        "svm_classifier.fit(X_train, y_train)\n",
        "\n",
        "# Predict the test set results\n",
        "y_pred = svm_classifier.predict(X_test)\n",
        "\n",
        "# Evaluate accuracy\n",
        "accuracy = accuracy_score(y_test, y_pred)\n",
        "print(f\"Accuracy of SVM classifier on the test set: {accuracy:.2f}\")\n"
      ],
      "metadata": {
        "colab": {
          "base_uri": "https://localhost:8080/"
        },
        "id": "5VN5OgPxpS07",
        "outputId": "191d4d6f-4a9c-4857-ff23-0536b9e62033"
      },
      "execution_count": 3,
      "outputs": [
        {
          "output_type": "stream",
          "name": "stdout",
          "text": [
            "Accuracy of SVM classifier on the test set: 0.70\n"
          ]
        }
      ]
    },
    {
      "cell_type": "code",
      "source": [],
      "metadata": {
        "id": "o1KHC3pXrIqE"
      },
      "execution_count": null,
      "outputs": []
    }
  ]
}