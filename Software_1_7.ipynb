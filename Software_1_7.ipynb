{
  "nbformat": 4,
  "nbformat_minor": 0,
  "metadata": {
    "colab": {
      "provenance": [],
      "authorship_tag": "ABX9TyO6wQ+njw2d3LjEbv+VPDXX",
      "include_colab_link": true
    },
    "kernelspec": {
      "name": "python3",
      "display_name": "Python 3"
    },
    "language_info": {
      "name": "python"
    }
  },
  "cells": [
    {
      "cell_type": "markdown",
      "metadata": {
        "id": "view-in-github",
        "colab_type": "text"
      },
      "source": [
        "<a href=\"https://colab.research.google.com/github/Yhemisol/4B1b/blob/master/Software_1_7.ipynb\" target=\"_parent\"><img src=\"https://colab.research.google.com/assets/colab-badge.svg\" alt=\"Open In Colab\"/></a>"
      ]
    },
    {
      "cell_type": "code",
      "execution_count": null,
      "metadata": {
        "colab": {
          "base_uri": "https://localhost:8080/"
        },
        "id": "j97sGOF_eBJt",
        "outputId": "bd44d38c-2ff8-4a64-83f3-936ee711cd7f"
      },
      "outputs": [
        {
          "output_type": "stream",
          "name": "stdout",
          "text": [
            "Process ID: 202, Wait Time: 0.167, Current Time: 2024-04-15 15:55:52.362016\n",
            "Process ID: 201, Wait Time: 0.916, Current Time: 2024-04-15 15:55:53.106341\n",
            "Process ID: 200, Wait Time: 0.977, Current Time: 2024-04-15 15:55:53.163340\n"
          ]
        }
      ],
      "source": [
        "import multiprocessing\n",
        "import time\n",
        "import random\n",
        "from datetime import datetime\n",
        "\n",
        "def print_current_time():\n",
        "    # Generate a random float between 0 and 1\n",
        "    wait_time = random.random()\n",
        "    # Pause the process for the generated duration\n",
        "    time.sleep(wait_time)\n",
        "    # Print the current time\n",
        "    print(f\"Process ID: {multiprocessing.current_process().pid}, Wait Time: {wait_time:.3f}, Current Time: {datetime.now()}\")\n",
        "\n",
        "if __name__ == \"__main__\":\n",
        "    # List to hold the process objects\n",
        "    processes = []\n",
        "\n",
        "    # Create three separate processes\n",
        "    for _ in range(3):\n",
        "        process = multiprocessing.Process(target=print_current_time)\n",
        "        processes.append(process)\n",
        "        process.start()\n",
        "\n",
        "    # Wait for all processes to complete\n",
        "    for process in processes:\n",
        "        process.join()\n"
      ]
    },
    {
      "cell_type": "code",
      "source": [
        "# Define the content to be written to the file\n",
        "content = \"\"\"author,book\n",
        "J R R Tolkien,The Hobbit\n",
        "Lynne Truss,\"Eats, Shoots & Leaves\"\n",
        "\"\"\"\n",
        "\n",
        "# Define the file path\n",
        "file_path = 'books.csv'\n",
        "\n",
        "# Open the file in write mode\n",
        "with open(file_path, 'w') as file:\n",
        "    # Write the content to the file\n",
        "    file.write(content)\n",
        "\n",
        "print(f\"Data has been written to {file_path}\")\n"
      ],
      "metadata": {
        "colab": {
          "base_uri": "https://localhost:8080/"
        },
        "id": "tz1mWoUPeL4B",
        "outputId": "4ff6cefa-39f1-47b5-fc4e-16fff4df6066"
      },
      "execution_count": null,
      "outputs": [
        {
          "output_type": "stream",
          "name": "stdout",
          "text": [
            "Data has been written to books.csv\n"
          ]
        }
      ]
    },
    {
      "cell_type": "code",
      "source": [
        "import csv\n",
        "\n",
        "# Define the path to the CSV file\n",
        "file_path = 'books.csv'\n",
        "\n",
        "# Open the CSV file and read it using csv.DictReader\n",
        "with open(file_path, 'r') as file:\n",
        "    reader = csv.DictReader(file)\n",
        "    books = list(reader)  # Convert the reader to a list to print and inspect the values\n",
        "\n",
        "# Print the values in 'books' to see how DictReader handled the quotes and commas\n",
        "for book in books:\n",
        "    print(book)\n",
        "\n",
        "# Check if the quotes and commas were handled properly\n",
        "if 'Eats, Shoots & Leaves' in [book['book'] for book in books]:\n",
        "    print(\"DictReader handled the quotes and commas in the book title correctly.\")\n",
        "else:\n",
        "    print(\"DictReader did not handle the quotes and commas in the book title correctly.\")\n"
      ],
      "metadata": {
        "colab": {
          "base_uri": "https://localhost:8080/"
        },
        "id": "ZQFzQ8TKep9C",
        "outputId": "fec49175-cbcf-44b7-c5b2-fc791b32b4c8"
      },
      "execution_count": null,
      "outputs": [
        {
          "output_type": "stream",
          "name": "stdout",
          "text": [
            "{'author': 'J R R Tolkien', 'book': 'The Hobbit'}\n",
            "{'author': 'Lynne Truss', 'book': 'Eats, Shoots & Leaves'}\n",
            "DictReader handled the quotes and commas in the book title correctly.\n"
          ]
        }
      ]
    },
    {
      "cell_type": "code",
      "source": [
        "import csv\n",
        "\n",
        "# Define the data for the CSV file\n",
        "data = [\n",
        "    [\"title\", \"author\", \"year\"],\n",
        "    [\"The Weirdstone of Brisingamen\", \"Alan Garner\", 1960],\n",
        "    [\"Perdido Street Station\", \"China Miéville\", 2000],\n",
        "    [\"Thud!\", \"Terry Pratchett\", 2005],\n",
        "    [\"The Spellman Files\", \"Lisa Lutz\", 2007],\n",
        "    [\"Small Gods\", \"Terry Pratchett\", 1992]\n",
        "]\n",
        "\n",
        "# Specify the file path\n",
        "file_path = 'books2.csv'\n",
        "\n",
        "# Open the file in write mode and create a csv.writer object\n",
        "with open(file_path, 'w', newline='') as file:\n",
        "    writer = csv.writer(file)\n",
        "    # Write each row of data to the CSV file\n",
        "    writer.writerows(data)\n",
        "\n",
        "print(f\"Data has been written to {file_path}\")\n"
      ],
      "metadata": {
        "colab": {
          "base_uri": "https://localhost:8080/"
        },
        "id": "bTNFrMMgfAQG",
        "outputId": "1d7313e0-c5b7-4979-8707-d9d2d0a8be67"
      },
      "execution_count": null,
      "outputs": [
        {
          "output_type": "stream",
          "name": "stdout",
          "text": [
            "Data has been written to books2.csv\n"
          ]
        }
      ]
    },
    {
      "cell_type": "code",
      "source": [
        "import sqlite3\n",
        "\n",
        "# Define the path to the SQLite database\n",
        "db_path = 'books.db'\n",
        "\n",
        "# Connect to the SQLite database (this will create the database if it doesn't exist)\n",
        "conn = sqlite3.connect(db_path)\n",
        "cursor = conn.cursor()\n",
        "\n",
        "# Create the 'books' table with the specified fields\n",
        "cursor.execute(\"\"\"\n",
        "CREATE TABLE books (\n",
        "    title TEXT,\n",
        "    author TEXT,\n",
        "    year INTEGER\n",
        ")\n",
        "\"\"\")\n",
        "\n",
        "# Commit the changes and close the connection\n",
        "conn.commit()\n",
        "conn.close()\n",
        "\n",
        "print(f\"Database created with 'books' table at {db_path}\")\n"
      ],
      "metadata": {
        "colab": {
          "base_uri": "https://localhost:8080/"
        },
        "id": "8lSHKqnvfVc7",
        "outputId": "c899aa49-b266-4342-c731-8b21178dd860"
      },
      "execution_count": null,
      "outputs": [
        {
          "output_type": "stream",
          "name": "stdout",
          "text": [
            "Database created with 'books' table at books.db\n"
          ]
        }
      ]
    },
    {
      "cell_type": "code",
      "source": [
        "import csv\n",
        "import sqlite3\n",
        "\n",
        "# Define the path to the CSV file and the SQLite database\n",
        "csv_file_path = 'books2.csv'\n",
        "db_path = 'books.db'\n",
        "\n",
        "# Connect to the SQLite database\n",
        "conn = sqlite3.connect(db_path)\n",
        "cursor = conn.cursor()\n",
        "\n",
        "# Open the CSV file and read data from it\n",
        "with open(csv_file_path, mode='r', newline='') as file:\n",
        "    reader = csv.reader(file)\n",
        "    next(reader)  # Skip the header row\n",
        "\n",
        "    # Prepare SQL query to insert data into the books table\n",
        "    insert_query = 'INSERT INTO books (title, author, year) VALUES (?, ?, ?)'\n",
        "\n",
        "    # Insert each row from the CSV file into the books table\n",
        "    for row in reader:\n",
        "        cursor.execute(insert_query, (row[0], row[1], int(row[2])))\n",
        "\n",
        "# Commit the changes to the database\n",
        "conn.commit()\n",
        "\n",
        "# Close the connection to the database\n",
        "conn.close()\n",
        "\n",
        "print(\"Data has been successfully inserted into the books table.\")\n"
      ],
      "metadata": {
        "colab": {
          "base_uri": "https://localhost:8080/"
        },
        "id": "3hNlzFL7fsF-",
        "outputId": "c5d5d29a-b100-484d-b672-424acec17a9c"
      },
      "execution_count": null,
      "outputs": [
        {
          "output_type": "stream",
          "name": "stdout",
          "text": [
            "Data has been successfully inserted into the books table.\n"
          ]
        }
      ]
    },
    {
      "cell_type": "code",
      "source": [
        "import sqlite3\n",
        "\n",
        "# Define the path to the SQLite database\n",
        "db_path = 'books.db'\n",
        "\n",
        "# Connect to the SQLite database\n",
        "conn = sqlite3.connect(db_path)\n",
        "cursor = conn.cursor()\n",
        "\n",
        "# Execute SQL query to select the title column from the 'books' table in alphabetical order\n",
        "cursor.execute(\"SELECT title FROM books ORDER BY title ASC\")\n",
        "\n",
        "# Fetch all the results\n",
        "titles = cursor.fetchall()\n",
        "\n",
        "# Print each title\n",
        "for title in titles:\n",
        "    print(title[0])  # Each title is a tuple, so index 0 is used to get the string value\n",
        "\n",
        "# Close the connection to the database\n",
        "conn.close()\n"
      ],
      "metadata": {
        "colab": {
          "base_uri": "https://localhost:8080/"
        },
        "id": "HCYkuIiRgOLn",
        "outputId": "3046bbf6-342f-4032-88fd-12f64814e529"
      },
      "execution_count": null,
      "outputs": [
        {
          "output_type": "stream",
          "name": "stdout",
          "text": [
            "Perdido Street Station\n",
            "Small Gods\n",
            "The Spellman Files\n",
            "The Weirdstone of Brisingamen\n",
            "Thud!\n"
          ]
        }
      ]
    },
    {
      "cell_type": "code",
      "source": [
        "import sqlite3\n",
        "\n",
        "# Define the path to the SQLite database\n",
        "db_path = 'books.db'\n",
        "\n",
        "# Connect to the SQLite database\n",
        "conn = sqlite3.connect(db_path)\n",
        "cursor = conn.cursor()\n",
        "\n",
        "# Execute SQL query to select all columns from the 'books' table ordered by the publication year\n",
        "cursor.execute(\"SELECT * FROM books ORDER BY year\")\n",
        "\n",
        "# Fetch all the results\n",
        "books = cursor.fetchall()\n",
        "\n",
        "# Print each row with all columns\n",
        "for book in books:\n",
        "    print(book)  # Each book is a tuple containing all the fields of a record\n",
        "\n",
        "# Close the connection to the database\n",
        "conn.close()\n"
      ],
      "metadata": {
        "colab": {
          "base_uri": "https://localhost:8080/"
        },
        "id": "wN03zCDQgj_-",
        "outputId": "4d7377d9-9a45-4e83-867a-65e4e5ceb6e1"
      },
      "execution_count": null,
      "outputs": [
        {
          "output_type": "stream",
          "name": "stdout",
          "text": [
            "('The Weirdstone of Brisingamen', 'Alan Garner', 1960)\n",
            "('Small Gods', 'Terry Pratchett', 1992)\n",
            "('Perdido Street Station', 'China Miéville', 2000)\n",
            "('Thud!', 'Terry Pratchett', 2005)\n",
            "('The Spellman Files', 'Lisa Lutz', 2007)\n"
          ]
        }
      ]
    },
    {
      "source": [
        "!pip install sqlalchemy"
      ],
      "cell_type": "code",
      "metadata": {
        "colab": {
          "base_uri": "https://localhost:8080/"
        },
        "id": "dH-MYdN6hrwX",
        "outputId": "d3914184-e546-4d00-9a69-53442719fca2"
      },
      "execution_count": null,
      "outputs": [
        {
          "output_type": "stream",
          "name": "stdout",
          "text": [
            "Requirement already satisfied: sqlalchemy in /usr/local/lib/python3.10/dist-packages (2.0.29)\n",
            "Requirement already satisfied: typing-extensions>=4.6.0 in /usr/local/lib/python3.10/dist-packages (from sqlalchemy) (4.11.0)\n",
            "Requirement already satisfied: greenlet!=0.4.17 in /usr/local/lib/python3.10/dist-packages (from sqlalchemy) (3.0.3)\n"
          ]
        }
      ]
    },
    {
      "cell_type": "code",
      "source": [],
      "metadata": {
        "id": "1OQf9M8khh0h"
      },
      "execution_count": null,
      "outputs": []
    },
    {
      "source": [
        "from sqlalchemy import create_engine, Table, Column, String, Integer, MetaData, select"
      ],
      "cell_type": "code",
      "metadata": {
        "id": "FKsUgL6Vhv69"
      },
      "execution_count": null,
      "outputs": []
    },
    {
      "cell_type": "code",
      "source": [],
      "metadata": {
        "id": "wJUurnLbhznq"
      },
      "execution_count": null,
      "outputs": []
    },
    {
      "source": [
        "db_path = 'books.db'\n",
        "db_string = f\"sqlite:///{db_path}\"\n",
        "engine = create_engine(db_string)"
      ],
      "cell_type": "code",
      "metadata": {
        "id": "V01qpb8Kh0lG"
      },
      "execution_count": null,
      "outputs": []
    },
    {
      "cell_type": "code",
      "source": [],
      "metadata": {
        "id": "Oxti3D1Ih1-1"
      },
      "execution_count": null,
      "outputs": []
    },
    {
      "source": [
        "metadata = MetaData()"
      ],
      "cell_type": "code",
      "metadata": {
        "id": "VbLXT2lCh21m"
      },
      "execution_count": null,
      "outputs": []
    },
    {
      "cell_type": "code",
      "source": [],
      "metadata": {
        "id": "1BegZ7zxkVr8"
      },
      "execution_count": null,
      "outputs": []
    },
    {
      "source": [
        "from sqlalchemy import create_engine, Table, Column, String, Integer, MetaData, select\n",
        "\n",
        "# Define the connection string to the SQLite database\n",
        "db_path = 'books.db'\n",
        "db_string = f\"sqlite:///{db_path}\"\n",
        "\n",
        "# Create the database engine\n",
        "engine = create_engine(db_string)\n",
        "\n",
        "# Define the metadata\n",
        "metadata = MetaData()\n",
        "\n",
        "# Reflect the existing database into the new model\n",
        "metadata.reflect(bind=engine)\n",
        "\n",
        "# Reference the 'books' table\n",
        "books = metadata.tables['books']\n",
        "\n",
        "# Connect to the database using the engine\n",
        "with engine.connect() as connection:\n",
        "    # Execute the query to select the title column from the 'books' table in alphabetical order\n",
        "    query = select(books.c.title).order_by(books.c.title)\n",
        "    result = connection.execute(query)\n",
        "\n",
        "    # Print the titles in alphabetical order\n",
        "    for row in result:\n",
        "        print(row[0])\n",
        "\n",
        "# Close the engine\n",
        "engine.dispose()"
      ],
      "cell_type": "code",
      "metadata": {
        "colab": {
          "base_uri": "https://localhost:8080/"
        },
        "id": "H75VbkqTlR_n",
        "outputId": "500c1279-409e-47a3-a986-3f6f2309255b"
      },
      "execution_count": null,
      "outputs": [
        {
          "output_type": "stream",
          "name": "stdout",
          "text": [
            "Perdido Street Station\n",
            "Small Gods\n",
            "The Spellman Files\n",
            "The Weirdstone of Brisingamen\n",
            "Thud!\n"
          ]
        }
      ]
    },
    {
      "source": [
        "!pip install SQLAlchemy"
      ],
      "cell_type": "code",
      "metadata": {
        "colab": {
          "base_uri": "https://localhost:8080/"
        },
        "id": "s8ms-QoPmyba",
        "outputId": "138d2add-212c-4c81-e1aa-846c39599176"
      },
      "execution_count": null,
      "outputs": [
        {
          "output_type": "stream",
          "name": "stdout",
          "text": [
            "Requirement already satisfied: SQLAlchemy in /usr/local/lib/python3.10/dist-packages (2.0.29)\n",
            "Requirement already satisfied: typing-extensions>=4.6.0 in /usr/local/lib/python3.10/dist-packages (from SQLAlchemy) (4.11.0)\n",
            "Requirement already satisfied: greenlet!=0.4.17 in /usr/local/lib/python3.10/dist-packages (from SQLAlchemy) (3.0.3)\n"
          ]
        }
      ]
    },
    {
      "cell_type": "code",
      "source": [],
      "metadata": {
        "id": "bx1y3JRTmrHX"
      },
      "execution_count": null,
      "outputs": []
    },
    {
      "source": [
        "from sqlalchemy import create_engine, MetaData, Table, select"
      ],
      "cell_type": "code",
      "metadata": {
        "id": "3aPZPIFUm0sq"
      },
      "execution_count": null,
      "outputs": []
    },
    {
      "cell_type": "code",
      "source": [],
      "metadata": {
        "id": "ItzXLaFmm1WJ"
      },
      "execution_count": null,
      "outputs": []
    },
    {
      "source": [
        "db_path = 'books.db'\n",
        "db_string = f\"sqlite:///{db_path}\""
      ],
      "cell_type": "code",
      "metadata": {
        "id": "SKL7vfYTm2Tj"
      },
      "execution_count": null,
      "outputs": []
    },
    {
      "cell_type": "code",
      "source": [],
      "metadata": {
        "id": "GvDx609Nm3Dp"
      },
      "execution_count": null,
      "outputs": []
    },
    {
      "source": [
        "engine = create_engine(db_string)"
      ],
      "cell_type": "code",
      "metadata": {
        "id": "On5rxRGym36K"
      },
      "execution_count": null,
      "outputs": []
    },
    {
      "cell_type": "code",
      "source": [],
      "metadata": {
        "id": "Ush73ECqm4jM"
      },
      "execution_count": null,
      "outputs": []
    },
    {
      "source": [
        "metadata = MetaData()\n",
        "metadata.reflect(bind=engine)"
      ],
      "cell_type": "code",
      "metadata": {
        "id": "8tfZStVbm5ja"
      },
      "execution_count": null,
      "outputs": []
    },
    {
      "cell_type": "code",
      "source": [],
      "metadata": {
        "id": "ZwaF3_B4m6qz"
      },
      "execution_count": null,
      "outputs": []
    },
    {
      "source": [
        "books = metadata.tables['books']"
      ],
      "cell_type": "code",
      "metadata": {
        "id": "S3agoGAnm8Mb"
      },
      "execution_count": null,
      "outputs": []
    },
    {
      "cell_type": "code",
      "source": [],
      "metadata": {
        "id": "_SnmYa45m85J"
      },
      "execution_count": null,
      "outputs": []
    },
    {
      "source": [
        "query = books.select().order_by(books.c.title)"
      ],
      "cell_type": "code",
      "metadata": {
        "id": "ZKvpbFe_m-bk"
      },
      "execution_count": null,
      "outputs": []
    },
    {
      "cell_type": "code",
      "source": [],
      "metadata": {
        "id": "9xfj-7XPm_PJ"
      },
      "execution_count": null,
      "outputs": []
    },
    {
      "source": [
        "with engine.connect() as connection:\n",
        "    result = connection.execute(query)\n",
        "    titles = [row[0] for row in result]"
      ],
      "cell_type": "code",
      "metadata": {
        "id": "WKMZbUS7nAMU"
      },
      "execution_count": null,
      "outputs": []
    },
    {
      "cell_type": "code",
      "source": [],
      "metadata": {
        "id": "GRdjwVy1nBrp"
      },
      "execution_count": null,
      "outputs": []
    },
    {
      "source": [
        "for title in titles:\n",
        "    print(title)"
      ],
      "cell_type": "code",
      "metadata": {
        "colab": {
          "base_uri": "https://localhost:8080/"
        },
        "id": "I3B9sKpUnDIl",
        "outputId": "6b5c0092-f0d1-40d4-d05e-f5c207da74ca"
      },
      "execution_count": null,
      "outputs": [
        {
          "output_type": "stream",
          "name": "stdout",
          "text": [
            "Perdido Street Station\n",
            "Small Gods\n",
            "The Spellman Files\n",
            "The Weirdstone of Brisingamen\n",
            "Thud!\n"
          ]
        }
      ]
    },
    {
      "cell_type": "code",
      "source": [
        "!pip install redis\n"
      ],
      "metadata": {
        "colab": {
          "base_uri": "https://localhost:8080/"
        },
        "id": "jidiVeVenD9D",
        "outputId": "061f7da7-e0e3-4304-9906-c950df2c825f"
      },
      "execution_count": null,
      "outputs": [
        {
          "output_type": "stream",
          "name": "stdout",
          "text": [
            "Collecting redis\n",
            "  Downloading redis-5.0.3-py3-none-any.whl (251 kB)\n",
            "\u001b[?25l     \u001b[90m━━━━━━━━━━━━━━━━━━━━━━━━━━━━━━━━━━━━━━━━\u001b[0m \u001b[32m0.0/251.8 kB\u001b[0m \u001b[31m?\u001b[0m eta \u001b[36m-:--:--\u001b[0m\r\u001b[2K     \u001b[91m━━━━━━━━━━━━━━━━━━━\u001b[0m\u001b[91m╸\u001b[0m\u001b[90m━━━━━━━━━━━━━━━━━━━━\u001b[0m \u001b[32m122.9/251.8 kB\u001b[0m \u001b[31m3.7 MB/s\u001b[0m eta \u001b[36m0:00:01\u001b[0m\r\u001b[2K     \u001b[90m━━━━━━━━━━━━━━━━━━━━━━━━━━━━━━━━━━━━━━━━\u001b[0m \u001b[32m251.8/251.8 kB\u001b[0m \u001b[31m4.2 MB/s\u001b[0m eta \u001b[36m0:00:00\u001b[0m\n",
            "\u001b[?25hRequirement already satisfied: async-timeout>=4.0.3 in /usr/local/lib/python3.10/dist-packages (from redis) (4.0.3)\n",
            "Installing collected packages: redis\n",
            "Successfully installed redis-5.0.3\n"
          ]
        }
      ]
    },
    {
      "cell_type": "code",
      "source": [
        "!pip install --upgrade sqlalchemy"
      ],
      "metadata": {
        "id": "BqCWThs9xDE9",
        "colab": {
          "base_uri": "https://localhost:8080/"
        },
        "outputId": "853efd62-0684-4601-ab4d-580827b3781a"
      },
      "execution_count": null,
      "outputs": [
        {
          "output_type": "stream",
          "name": "stdout",
          "text": [
            "Requirement already satisfied: sqlalchemy in /usr/local/lib/python3.10/dist-packages (2.0.29)\n",
            "Requirement already satisfied: typing-extensions>=4.6.0 in /usr/local/lib/python3.10/dist-packages (from sqlalchemy) (4.11.0)\n",
            "Requirement already satisfied: greenlet!=0.4.17 in /usr/local/lib/python3.10/dist-packages (from sqlalchemy) (3.0.3)\n"
          ]
        }
      ]
    },
    {
      "source": [
        "!pip install redis"
      ],
      "cell_type": "code",
      "metadata": {
        "colab": {
          "base_uri": "https://localhost:8080/"
        },
        "id": "EvpsaZcLSr12",
        "outputId": "73b40b65-6367-47c7-9020-b64deff38601"
      },
      "execution_count": null,
      "outputs": [
        {
          "output_type": "stream",
          "name": "stdout",
          "text": [
            "Collecting redis\n",
            "  Downloading redis-5.0.3-py3-none-any.whl (251 kB)\n",
            "\u001b[?25l     \u001b[90m━━━━━━━━━━━━━━━━━━━━━━━━━━━━━━━━━━━━━━━━\u001b[0m \u001b[32m0.0/251.8 kB\u001b[0m \u001b[31m?\u001b[0m eta \u001b[36m-:--:--\u001b[0m\r\u001b[2K     \u001b[91m━━━━━━━━━━━\u001b[0m\u001b[90m╺\u001b[0m\u001b[90m━━━━━━━━━━━━━━━━━━━━━━━━━━━━\u001b[0m \u001b[32m71.7/251.8 kB\u001b[0m \u001b[31m1.9 MB/s\u001b[0m eta \u001b[36m0:00:01\u001b[0m\r\u001b[2K     \u001b[91m━━━━━━━━━━━━━━━━━━━━━━━━━━━━━━━━━━━━━━━\u001b[0m\u001b[90m╺\u001b[0m \u001b[32m245.8/251.8 kB\u001b[0m \u001b[31m4.1 MB/s\u001b[0m eta \u001b[36m0:00:01\u001b[0m\r\u001b[2K     \u001b[90m━━━━━━━━━━━━━━━━━━━━━━━━━━━━━━━━━━━━━━━━\u001b[0m \u001b[32m251.8/251.8 kB\u001b[0m \u001b[31m3.3 MB/s\u001b[0m eta \u001b[36m0:00:00\u001b[0m\n",
            "\u001b[?25hRequirement already satisfied: async-timeout>=4.0.3 in /usr/local/lib/python3.10/dist-packages (from redis) (4.0.3)\n",
            "Installing collected packages: redis\n",
            "Successfully installed redis-5.0.3\n"
          ]
        }
      ]
    },
    {
      "cell_type": "code",
      "source": [],
      "metadata": {
        "id": "sghv0cCTSVR6"
      },
      "execution_count": null,
      "outputs": []
    },
    {
      "source": [
        "!pip show redis"
      ],
      "cell_type": "code",
      "metadata": {
        "colab": {
          "base_uri": "https://localhost:8080/"
        },
        "id": "u0GxNHvTSuKO",
        "outputId": "0462d5a2-c5fd-4978-a5a3-7634856d9ebe"
      },
      "execution_count": null,
      "outputs": [
        {
          "output_type": "stream",
          "name": "stdout",
          "text": [
            "Name: redis\n",
            "Version: 5.0.3\n",
            "Summary: Python client for Redis database and key-value store\n",
            "Home-page: https://github.com/redis/redis-py\n",
            "Author: Redis Inc.\n",
            "Author-email: oss@redis.com\n",
            "License: MIT\n",
            "Location: /usr/local/lib/python3.10/dist-packages\n",
            "Requires: async-timeout\n",
            "Required-by: \n"
          ]
        }
      ]
    },
    {
      "cell_type": "code",
      "source": [
        "!pip install fakeredis"
      ],
      "metadata": {
        "colab": {
          "base_uri": "https://localhost:8080/"
        },
        "id": "F6iWJfn-S1K3",
        "outputId": "d124716c-aa39-4a61-d473-4c8260749037"
      },
      "execution_count": null,
      "outputs": [
        {
          "output_type": "stream",
          "name": "stdout",
          "text": [
            "Collecting fakeredis\n",
            "  Downloading fakeredis-2.22.0-py3-none-any.whl (85 kB)\n",
            "\u001b[?25l     \u001b[90m━━━━━━━━━━━━━━━━━━━━━━━━━━━━━━━━━━━━━━━━\u001b[0m \u001b[32m0.0/85.6 kB\u001b[0m \u001b[31m?\u001b[0m eta \u001b[36m-:--:--\u001b[0m\r\u001b[2K     \u001b[91m━━━━━━━━━━━━━━━━━━━━━━━━━━━━━━━━━━━━━━\u001b[0m\u001b[90m╺\u001b[0m\u001b[90m━\u001b[0m \u001b[32m81.9/85.6 kB\u001b[0m \u001b[31m2.4 MB/s\u001b[0m eta \u001b[36m0:00:01\u001b[0m\r\u001b[2K     \u001b[90m━━━━━━━━━━━━━━━━━━━━━━━━━━━━━━━━━━━━━━━━\u001b[0m \u001b[32m85.6/85.6 kB\u001b[0m \u001b[31m1.9 MB/s\u001b[0m eta \u001b[36m0:00:00\u001b[0m\n",
            "\u001b[?25hRequirement already satisfied: redis>=4 in /usr/local/lib/python3.10/dist-packages (from fakeredis) (5.0.3)\n",
            "Requirement already satisfied: sortedcontainers<3,>=2 in /usr/local/lib/python3.10/dist-packages (from fakeredis) (2.4.0)\n",
            "Requirement already satisfied: async-timeout>=4.0.3 in /usr/local/lib/python3.10/dist-packages (from redis>=4->fakeredis) (4.0.3)\n",
            "Installing collected packages: fakeredis\n",
            "Successfully installed fakeredis-2.22.0\n"
          ]
        }
      ]
    },
    {
      "cell_type": "code",
      "source": [],
      "metadata": {
        "id": "m9EYpymqai3Z"
      },
      "execution_count": null,
      "outputs": []
    },
    {
      "source": [
        "import fakeredis"
      ],
      "cell_type": "code",
      "metadata": {
        "id": "9B6xrwWgapa1"
      },
      "execution_count": null,
      "outputs": []
    },
    {
      "cell_type": "code",
      "source": [],
      "metadata": {
        "id": "ACxdyE5MaqRq"
      },
      "execution_count": null,
      "outputs": []
    },
    {
      "source": [
        "r = fakeredis.FakeStrictRedis()"
      ],
      "cell_type": "code",
      "metadata": {
        "id": "856DKO9barPP"
      },
      "execution_count": null,
      "outputs": []
    },
    {
      "cell_type": "code",
      "source": [
        "# Create a Redis hash called test with fields count and name\n",
        "r.hmset(\"test\", {\"count\": 1, \"name\": \"Fester Bestertester\"})\n"
      ],
      "metadata": {
        "colab": {
          "base_uri": "https://localhost:8080/"
        },
        "id": "t_9V2r2gasKE",
        "outputId": "f5affbc9-e4ca-47e1-b960-997a01e67e72"
      },
      "execution_count": null,
      "outputs": [
        {
          "output_type": "stream",
          "name": "stderr",
          "text": [
            "<ipython-input-14-7b344a2bd716>:2: DeprecationWarning: FakeStrictRedis.hmset() is deprecated. Use FakeStrictRedis.hset() instead.\n",
            "  r.hmset(\"test\", {\"count\": 1, \"name\": \"Fester Bestertester\"})\n"
          ]
        },
        {
          "output_type": "execute_result",
          "data": {
            "text/plain": [
              "True"
            ]
          },
          "metadata": {},
          "execution_count": 14
        }
      ]
    },
    {
      "cell_type": "code",
      "source": [
        "# Print all fields for test\n",
        "print(\"All fields for 'test':\", r.hgetall(\"test\"))\n"
      ],
      "metadata": {
        "colab": {
          "base_uri": "https://localhost:8080/"
        },
        "id": "Jtz_b9cSaxXa",
        "outputId": "0ddae908-7624-49d6-b11a-1f76d5c18bec"
      },
      "execution_count": null,
      "outputs": [
        {
          "output_type": "stream",
          "name": "stdout",
          "text": [
            "All fields for 'test': {b'count': b'1', b'name': b'Fester Bestertester'}\n"
          ]
        }
      ]
    },
    {
      "cell_type": "code",
      "source": [
        "# 16.10 Increment the count field of test and print it.\n",
        "# Increment the count field of test and print it\n",
        "r.hincrby(\"test\", \"count\", 1)\n",
        "print(\"Incremented count field in 'test':\", r.hget(\"test\", \"count\"))"
      ],
      "metadata": {
        "colab": {
          "base_uri": "https://localhost:8080/"
        },
        "id": "NZA9VGvNa1gm",
        "outputId": "5c38e335-f8d8-4fee-9412-c43006092cb9"
      },
      "execution_count": null,
      "outputs": [
        {
          "output_type": "stream",
          "name": "stdout",
          "text": [
            "Incremented count field in 'test': b'2'\n"
          ]
        }
      ]
    },
    {
      "cell_type": "code",
      "source": [
        "import socket\n",
        "from datetime import datetime\n",
        "\n",
        "def start_server():\n",
        "    # Create a socket object\n",
        "    serversocket = socket.socket(socket.AF_INET, socket.SOCK_STREAM)\n",
        "\n",
        "    # Get local machine name\n",
        "    host = socket.gethostname()\n",
        "\n",
        "    # Reserve a port for your service\n",
        "    port = 12345\n",
        "\n",
        "    # Bind to the port\n",
        "    serversocket.bind((host, port))\n",
        "\n",
        "    # Queue up to 5 requests\n",
        "    serversocket.listen(5)\n",
        "\n",
        "    print(f\"Server started on {host} at port {port}. Waiting for connection...\")\n",
        "\n",
        "    while True:\n",
        "        # Establish a connection\n",
        "        clientsocket, addr = serversocket.accept()\n",
        "        print(f\"Got a connection from {addr}\")\n",
        "\n",
        "        # Receive data from the client\n",
        "        data = clientsocket.recv(1024).decode('utf-8')\n",
        "        if data == \"time\":\n",
        "            # Send the current time\n",
        "            current_time = datetime.now().isoformat()\n",
        "            clientsocket.send(current_time.encode('utf-8'))\n",
        "        else:\n",
        "            clientsocket.send(b'Invalid request')\n",
        "\n",
        "        # Close the connection with the client\n",
        "        clientsocket.close()\n",
        "        print(\"Connection with client closed\")\n",
        "\n",
        "if __name__ == '__main__':\n",
        "    start_server()\n"
      ],
      "metadata": {
        "colab": {
          "base_uri": "https://localhost:8080/"
        },
        "id": "LKac6eXVa8II",
        "outputId": "a074b298-bde9-45a8-abbe-3b94414d0d0e"
      },
      "execution_count": null,
      "outputs": [
        {
          "metadata": {
            "tags": null
          },
          "name": "stdout",
          "output_type": "stream",
          "text": [
            "Server started on e633469e8aa2 at port 12345. Waiting for connection...\n"
          ]
        }
      ]
    },
    {
      "cell_type": "code",
      "source": [
        "# 17.1 Using plain socket to implement a current-time-service\n",
        "\n",
        "# Server\n",
        "import socket\n",
        "import threading\n",
        "from datetime import datetime\n",
        "\n",
        "def handle_client(client_socket):\n",
        "    data = client_socket.recv(1024)\n",
        "    if data.decode() == 'time':\n",
        "        current_time = datetime.now().isoformat()\n",
        "        client_socket.send(current_time.encode())\n",
        "    client_socket.close()\n",
        "\n",
        "def main():\n",
        "    server_socket = socket.socket(socket.AF_INET, socket.SOCK_STREAM)\n",
        "    server_socket.bind(('localhost', 12335))\n",
        "    server_socket.listen(5)  # Increase the number of allowed connections\n",
        "\n",
        "    while True:\n",
        "        client_socket, address = server_socket.accept()\n",
        "        client_thread = threading.Thread(target=handle_client, args=(client_socket,))\n",
        "        client_thread.start()\n",
        "\n",
        "if __name__ == \"__main__\":\n",
        "    main()"
      ],
      "metadata": {
        "id": "PJYApA5rc7pv"
      },
      "execution_count": null,
      "outputs": []
    },
    {
      "cell_type": "code",
      "source": [
        "# 17.2 Using ZeroMQ REQ and REP sockets to implement a current-time-service\n",
        "\n",
        "# Server\n",
        "import zmq\n",
        "from datetime import datetime\n",
        "\n",
        "context = zmq.Context()\n",
        "socket = context.socket(zmq.REP)\n",
        "socket.bind(\"tcp://*:5555\")\n",
        "\n",
        "while True:\n",
        "    message = socket.recv()\n",
        "    if message == b'time':\n",
        "        current_time = datetime.now().isoformat()\n",
        "        socket.send_string(current_time)\n",
        "\n",
        "\n",
        "# Client\n",
        "import zmq\n",
        "\n",
        "context = zmq.Context()\n",
        "socket = context.socket(zmq.REQ)\n",
        "socket.connect(\"tcp://localhost:5555\")\n",
        "\n",
        "socket.send(b'time')\n",
        "print(socket.recv().decode())\n"
      ],
      "metadata": {
        "id": "N5jipW4dc9u4"
      },
      "execution_count": null,
      "outputs": []
    },
    {
      "cell_type": "code",
      "source": [
        "# 17.3 Using XMLRPC to implement a current-time-service\n",
        "\n",
        "# Server\n",
        "from xmlrpc.server import SimpleXMLRPCServer\n",
        "from datetime import datetime\n",
        "\n",
        "def get_time():\n",
        "    return datetime.now().isoformat()\n",
        "\n",
        "server = SimpleXMLRPCServer(('localhost', 8000))\n",
        "server.register_function(get_time, 'time')\n",
        "server.serve_forever()\n",
        "\n",
        "\n",
        "# Client\n",
        "import xmlrpc.client\n",
        "\n",
        "proxy = xmlrpc.client.ServerProxy(\"http://localhost:8000/\")\n",
        "print(proxy.time())\n"
      ],
      "metadata": {
        "id": "Ew2u0TZNdEgE"
      },
      "execution_count": null,
      "outputs": []
    },
    {
      "cell_type": "code",
      "source": [
        "# 17.4 Implementing a simulation of Lucy working in a chocolate factory using Redis\n",
        "\n",
        "# Producer (pushing chocolates to Redis list)\n",
        "import redis\n",
        "import time\n",
        "\n",
        "r = redis.Redis()\n",
        "\n",
        "chocolates = ['milk', 'dark', 'white', 'nuts', 'caramel']\n",
        "for chocolate in chocolates:\n",
        "    r.lpush('chocolates', chocolate)\n",
        "    print(f\"Pushed {chocolate} to Redis list.\")\n",
        "    time.sleep(0.5)  # Simulating conveyor belt speed\n",
        "\n",
        "\n",
        "# Consumer (Lucy doing blocking pops of chocolates)\n",
        "import redis\n",
        "\n",
        "r = redis.Redis()\n",
        "\n",
        "while True:\n",
        "    chocolate = r.brpop('chocolates')[1].decode()\n",
        "    print(f\"Lucy got a {chocolate} chocolate at {time.strftime('%H:%M:%S')}\")\n",
        "    remaining = r.llen('chocolates')\n",
        "    print(f\"Remaining chocolates: {remaining}\")\n",
        "    time.sleep(0.5)  # Lucy needs 0.5 seconds to handle a piece of chocolate"
      ],
      "metadata": {
        "id": "ORpnFHX5i2ix"
      },
      "execution_count": null,
      "outputs": []
    },
    {
      "cell_type": "code",
      "source": [
        "# 17.5 Using ZeroMQ to publish a poem\n",
        "\n",
        "# Publisher\n",
        "import zmq\n",
        "import time\n",
        "\n",
        "context = zmq.Context()\n",
        "socket = context.socket(zmq.PUB)\n",
        "socket.bind(\"tcp://*:5555\")\n",
        "\n",
        "poem = \"\"\"\\\n",
        "Two roads diverged in a yellow wood,\n",
        "And sorry I could not travel both\n",
        "And be one traveler, long I stood\n",
        "And looked down one as far as I could\n",
        "To where it bent in the undergrowth...\n",
        "\n",
        "(Robert Frost, 'The Road Not Taken')\n",
        "\"\"\"\n",
        "\n",
        "for word in poem.split():\n",
        "    if word[0].lower() in 'aeiou':\n",
        "        socket.send_string(f\"vowel: {word}\")\n",
        "    if len(word) == 5:\n",
        "        socket.send_string(f\"five: {word}\")\n",
        "    time.sleep(0.5)  # Sending one word at a time\n",
        "\n",
        "\n",
        "# Consumers\n",
        "import zmq\n",
        "\n",
        "context = zmq.Context()\n",
        "\n",
        "# Consumer for words starting with a vowel\n",
        "socket_vowel = context.socket(zmq.SUB)\n",
        "socket_vowel.connect(\"tcp://localhost:5555\")\n",
        "socket_vowel.setsockopt_string(zmq.SUBSCRIBE, \"vowel:\")\n",
        "\n",
        "# Consumer for words with five letters\n",
        "socket_five = context.socket(zmq.SUB)\n",
        "socket_five.connect(\"tcp://localhost:5555\")\n",
        "socket_five.setsockopt_string(zmq.SUBSCRIBE, \"five:\")\n",
        "\n",
        "poller = zmq.Poller()\n",
        "poller.register(socket_vowel, zmq.POLLIN)\n",
        "poller.register(socket_five, zmq.POLLIN)\n",
        "\n",
        "while True:\n",
        "    socks = dict(poller.poll())\n",
        "    if socket_vowel in socks and socks[socket_vowel] == zmq.POLLIN:\n",
        "        message = socket_vowel.recv_string()\n",
        "        print(message)\n",
        "    if socket_five in socks and socks[socket_five] == zmq.POLLIN:\n",
        "        message = socket_five.recv_string()\n",
        "        print(message)\n"
      ],
      "metadata": {
        "id": "x8GOjttmmVCb"
      },
      "execution_count": null,
      "outputs": []
    },
    {
      "cell_type": "code",
      "source": [
        "# 18.1 Installing Flask (if not installed)\n",
        "\n",
        "# Install Flask using pip:\n",
        "!pip install flask\n"
      ],
      "metadata": {
        "id": "eJJusXFanKqr"
      },
      "execution_count": null,
      "outputs": []
    },
    {
      "cell_type": "code",
      "source": [
        "# 18.2 Building a skeleton website using Flask\n",
        "\n",
        "from flask import Flask\n",
        "\n",
        "app = Flask(__name__)\n",
        "\n",
        "@app.route('/')\n",
        "def home():\n",
        "    return \"It's alive!\"\n",
        "\n",
        "if __name__ == '__main__':\n",
        "    app.run(debug=True)"
      ],
      "metadata": {
        "id": "H5Jma7yIGuak"
      },
      "execution_count": null,
      "outputs": []
    },
    {
      "cell_type": "code",
      "source": [
        "# 18.3 Adding a home() function to handle requests for the home page\n",
        "\n",
        "from flask import Flask\n",
        "\n",
        "app = Flask(__name__)\n",
        "\n",
        "@app.route('/')\n",
        "def home():\n",
        "    return \"It's alive!\"\n",
        "\n",
        "if __name__ == '__main__':\n",
        "    app.run(debug=True)"
      ],
      "metadata": {
        "id": "dSm2FCiaHzpH"
      },
      "execution_count": null,
      "outputs": []
    },
    {
      "cell_type": "code",
      "source": [
        "#18.4\n",
        "!pip install Jinja2\n"
      ],
      "metadata": {
        "id": "eWLgYEy2J0ek"
      },
      "execution_count": null,
      "outputs": []
    },
    {
      "cell_type": "code",
      "source": [
        "<html>\n",
        "<head>\n",
        "<title>It's alive!</title>\n",
        "</head>\n",
        "<body>\n",
        "I'm of course referring to {{ thing }}, which is {{ height }} feet tall and {{ color }}.\n",
        "</body>\n",
        "</html>\n"
      ],
      "metadata": {
        "id": "o5_peTzzOlhk"
      },
      "execution_count": null,
      "outputs": []
    },
    {
      "cell_type": "code",
      "source": [
        "# Save the template to the Colab file system\n",
        "with open(\"/content/home.html\", \"w\") as file:\n",
        "    file.write(template_content)"
      ],
      "metadata": {
        "id": "c7r2W_tHRs6g"
      },
      "execution_count": null,
      "outputs": []
    },
    {
      "cell_type": "code",
      "source": [
        "from jinja2 import Environment, FileSystemLoader\n",
        "\n",
        "# Set up the Jinja2 environment, specifying the path to the directory containing the template\n",
        "env = Environment(loader=FileSystemLoader('/content'))\n",
        "\n",
        "# Load the template\n",
        "template = env.get_template('home.html')\n",
        "\n",
        "# Data to be rendered in the template\n",
        "data = {\n",
        "    'thing': 'Frankenstein\\'s monster',\n",
        "    'height': 8,\n",
        "    'color': 'green'\n",
        "}\n",
        "\n",
        "# Render the template with data\n",
        "rendered_html = template.render(data)\n",
        "\n",
        "# Print the rendered HTML\n",
        "print(rendered_html)\n"
      ],
      "metadata": {
        "id": "CBQF6T4PSqMj"
      },
      "execution_count": null,
      "outputs": []
    },
    {
      "cell_type": "code",
      "source": [
        "#18.5\n",
        "!pip install flask flask-ngrok\n"
      ],
      "metadata": {
        "id": "W65EihjkTeKk"
      },
      "execution_count": null,
      "outputs": []
    },
    {
      "cell_type": "code",
      "source": [
        "from flask import Flask, request, render_template\n",
        "from flask_ngrok import run_with_ngrok\n",
        "\n",
        "app = Flask(__name__)\n",
        "run_with_ngrok(app)  # Start ngrok when app is run\n",
        "\n",
        "@app.route('/')\n",
        "def home():\n",
        "    thing = request.args.get('thing', 'nothing')\n",
        "    height = request.args.get('height', 'unknown')\n",
        "    color = request.args.get('color', 'colorless')\n",
        "    return render_template('home.html', thing=thing, height=height, color=color)\n",
        "\n",
        "if __name__ == '__main__':\n",
        "    app.run()\n"
      ],
      "metadata": {
        "id": "Jq5yL6KGUohn"
      },
      "execution_count": null,
      "outputs": []
    },
    {
      "cell_type": "code",
      "source": [
        "!mkdir templates\n",
        "!echo \"<html>\n",
        "<head>\n",
        "<title>It's alive!</title>\n",
        "</head>\n",
        "<body>\n",
        "I'm of course referring to {{ '{{thing'}} }}, which is {{ '{{height'}} }} feet tall and {{ '{{color'}} }}.\n",
        "</body>\n",
        "</html>\" > templates/home.html\n",
        "\n"
      ],
      "metadata": {
        "id": "YCtGu5cwVWZV"
      },
      "execution_count": null,
      "outputs": []
    },
    {
      "cell_type": "code",
      "source": [
        "app.run()\n"
      ],
      "metadata": {
        "id": "BdrALpnUV3Nk"
      },
      "execution_count": null,
      "outputs": []
    },
    {
      "cell_type": "code",
      "source": [],
      "metadata": {
        "id": "Q0_hSamOWKGN"
      },
      "execution_count": null,
      "outputs": []
    }
  ]
}