{
  "nbformat": 4,
  "nbformat_minor": 0,
  "metadata": {
    "colab": {
      "provenance": [],
      "authorship_tag": "ABX9TyO/XSARN3YWH2Sk9oQ346Hm",
      "include_colab_link": true
    },
    "kernelspec": {
      "name": "python3",
      "display_name": "Python 3"
    },
    "language_info": {
      "name": "python"
    }
  },
  "cells": [
    {
      "cell_type": "markdown",
      "metadata": {
        "id": "view-in-github",
        "colab_type": "text"
      },
      "source": [
        "<a href=\"https://colab.research.google.com/github/Yhemisol/4B1b/blob/master/ML5.ipynb\" target=\"_parent\"><img src=\"https://colab.research.google.com/assets/colab-badge.svg\" alt=\"Open In Colab\"/></a>"
      ]
    },
    {
      "cell_type": "code",
      "execution_count": 1,
      "metadata": {
        "colab": {
          "base_uri": "https://localhost:8080/"
        },
        "id": "qmpxB9wec4K-",
        "outputId": "5094960c-8770-46b0-8699-447be85b4869"
      },
      "outputs": [
        {
          "output_type": "execute_result",
          "data": {
            "text/plain": [
              "0.98"
            ]
          },
          "metadata": {},
          "execution_count": 1
        }
      ],
      "source": [
        "from sklearn import datasets, svm\n",
        "X_digits, y_digits = datasets.load_digits(return_X_y=True)\n",
        "svc = svm.SVC(C=1, kernel='linear')\n",
        "svc.fit(X_digits[:-100], y_digits[:-100]).score(X_digits[-100:], y_digits[-100:])"
      ]
    },
    {
      "cell_type": "code",
      "source": [
        "import numpy as np\n",
        "X_folds = np.array_split(X_digits, 3)\n",
        "y_folds = np.array_split(y_digits, 3)\n",
        "scores = list()\n",
        "for k in range(3):\n",
        "    # We use 'list' to copy, in order to 'pop' later on\n",
        "    X_train = list(X_folds)\n",
        "    X_test = X_train.pop(k)\n",
        "    X_train = np.concatenate(X_train)\n",
        "    y_train = list(y_folds)\n",
        "    y_test = y_train.pop(k)\n",
        "    y_train = np.concatenate(y_train)\n",
        "    scores.append(svc.fit(X_train, y_train).score(X_test, y_test))\n",
        "print(scores)"
      ],
      "metadata": {
        "colab": {
          "base_uri": "https://localhost:8080/"
        },
        "id": "tCw4RjShc53g",
        "outputId": "997d50f1-6bd0-4c89-a71d-5cc1182f3a27"
      },
      "execution_count": 2,
      "outputs": [
        {
          "output_type": "stream",
          "name": "stdout",
          "text": [
            "[0.9348914858096828, 0.9565943238731218, 0.9398998330550918]\n"
          ]
        }
      ]
    },
    {
      "cell_type": "code",
      "source": [
        "from sklearn.model_selection import KFold, cross_val_score\n",
        "X = [\"a\", \"a\", \"a\", \"b\", \"b\", \"c\", \"c\", \"c\", \"c\", \"c\"]\n",
        "k_fold = KFold(n_splits=5)\n",
        "for train_indices, test_indices in k_fold.split(X):\n",
        "     print('Train: %s | test: %s' % (train_indices, test_indices))"
      ],
      "metadata": {
        "colab": {
          "base_uri": "https://localhost:8080/"
        },
        "id": "RSLim3EJdP-O",
        "outputId": "3db54cdf-f8c8-4790-ad3f-7f9007fae1ab"
      },
      "execution_count": 3,
      "outputs": [
        {
          "output_type": "stream",
          "name": "stdout",
          "text": [
            "Train: [2 3 4 5 6 7 8 9] | test: [0 1]\n",
            "Train: [0 1 4 5 6 7 8 9] | test: [2 3]\n",
            "Train: [0 1 2 3 6 7 8 9] | test: [4 5]\n",
            "Train: [0 1 2 3 4 5 8 9] | test: [6 7]\n",
            "Train: [0 1 2 3 4 5 6 7] | test: [8 9]\n"
          ]
        }
      ]
    },
    {
      "cell_type": "code",
      "source": [
        "[svc.fit(X_digits[train], y_digits[train]).score(X_digits[test], y_digits[test])\n",
        " for train, test in k_fold.split(X_digits)]"
      ],
      "metadata": {
        "colab": {
          "base_uri": "https://localhost:8080/"
        },
        "id": "s1F-zHkldUYy",
        "outputId": "0f9346b5-5072-43df-dec1-f855053629e2"
      },
      "execution_count": 4,
      "outputs": [
        {
          "output_type": "execute_result",
          "data": {
            "text/plain": [
              "[0.9638888888888889,\n",
              " 0.9222222222222223,\n",
              " 0.9637883008356546,\n",
              " 0.9637883008356546,\n",
              " 0.9303621169916435]"
            ]
          },
          "metadata": {},
          "execution_count": 4
        }
      ]
    },
    {
      "cell_type": "code",
      "source": [
        "cross_val_score(svc, X_digits, y_digits, cv=k_fold, n_jobs=-1)"
      ],
      "metadata": {
        "colab": {
          "base_uri": "https://localhost:8080/"
        },
        "id": "SPs3yDmMdYm3",
        "outputId": "52a0def9-5b20-40fa-87e6-0ae825f97b87"
      },
      "execution_count": 5,
      "outputs": [
        {
          "output_type": "execute_result",
          "data": {
            "text/plain": [
              "array([0.96388889, 0.92222222, 0.9637883 , 0.9637883 , 0.93036212])"
            ]
          },
          "metadata": {},
          "execution_count": 5
        }
      ]
    },
    {
      "cell_type": "code",
      "source": [
        "cross_val_score(svc, X_digits, y_digits, cv=k_fold,\n",
        "                scoring='precision_macro')"
      ],
      "metadata": {
        "colab": {
          "base_uri": "https://localhost:8080/"
        },
        "id": "yHIls7QwdwR5",
        "outputId": "73a7226e-fcdf-41d6-cff4-89b8b92a1b19"
      },
      "execution_count": 6,
      "outputs": [
        {
          "output_type": "execute_result",
          "data": {
            "text/plain": [
              "array([0.96578289, 0.92708922, 0.96681476, 0.96362897, 0.93192644])"
            ]
          },
          "metadata": {},
          "execution_count": 6
        }
      ]
    },
    {
      "cell_type": "code",
      "source": [
        "import numpy as np\n",
        "from sklearn import datasets, svm\n",
        "from sklearn.model_selection import cross_val_score\n",
        "X, y = datasets.load_digits(return_X_y=True)\n",
        "svc = svm.SVC(kernel=\"linear\")\n",
        "C_s = np.logspace(-10, 0, 10)\n",
        "scores = list()\n",
        "scores_std = list()\n",
        "for C in C_s:\n",
        "    svc.C = C\n",
        "    this_scores = cross_val_score(svc, X, y, n_jobs=1)\n",
        "    scores.append(np.mean(this_scores))\n",
        "    scores_std.append(np.std(this_scores))\n",
        "\n",
        "import matplotlib.pyplot as plt\n",
        "\n",
        "plt.figure()\n",
        "plt.semilogx(C_s, scores)\n",
        "plt.semilogx(C_s, np.array(scores) + np.array(scores_std), \"b--\")\n",
        "plt.semilogx(C_s, np.array(scores) - np.array(scores_std), \"b--\")\n",
        "locs, labels = plt.yticks()\n",
        "plt.yticks(locs, list(map(lambda x: \"%g\" % x, locs)))\n",
        "plt.ylabel(\"CV score\")\n",
        "plt.xlabel(\"Parameter C\")\n",
        "plt.ylim(0, 1.1)\n",
        "plt.show()"
      ],
      "metadata": {
        "colab": {
          "base_uri": "https://localhost:8080/",
          "height": 454
        },
        "id": "FAo2Y6wLd6rT",
        "outputId": "a744547d-02a7-447c-c27e-071909df3a9d"
      },
      "execution_count": 7,
      "outputs": [
        {
          "output_type": "display_data",
          "data": {
            "text/plain": [
              "<Figure size 640x480 with 1 Axes>"
            ],
            "image/png": "[encoded data removed]"
          },
          "metadata": {}
        }
      ]
    },
    {
      "cell_type": "code",
      "source": [
        "#Grid-search and cross-validated estimators\n",
        "from sklearn.model_selection import GridSearchCV, cross_val_score\n",
        "Cs = np.logspace(-6, -1, 10)\n",
        "clf = GridSearchCV(estimator=svc, param_grid=dict(C=Cs),\n",
        "                   n_jobs=-1)\n",
        "clf.fit(X_digits[:1000], y_digits[:1000])\n",
        "clf.best_score_\n",
        "clf.best_estimator_.C\n",
        "\n",
        "# Prediction performance on test set is not as good as on train set\n",
        "clf.score(X_digits[1000:], y_digits[1000:])"
      ],
      "metadata": {
        "colab": {
          "base_uri": "https://localhost:8080/"
        },
        "id": "cEcO1Q-CeuQy",
        "outputId": "deb07361-4d3f-41be-e91f-0e9b8d03445a"
      },
      "execution_count": 8,
      "outputs": [
        {
          "output_type": "execute_result",
          "data": {
            "text/plain": [
              "0.946047678795483"
            ]
          },
          "metadata": {},
          "execution_count": 8
        }
      ]
    },
    {
      "cell_type": "code",
      "source": [
        "#Nested cross-validation\n",
        "cross_val_score(clf, X_digits, y_digits)"
      ],
      "metadata": {
        "colab": {
          "base_uri": "https://localhost:8080/"
        },
        "id": "1KBucYKMgTKj",
        "outputId": "8d30355d-5d05-4711-b49f-a048ed04cb92"
      },
      "execution_count": 9,
      "outputs": [
        {
          "output_type": "execute_result",
          "data": {
            "text/plain": [
              "array([0.94722222, 0.91666667, 0.96657382, 0.97493036, 0.93593315])"
            ]
          },
          "metadata": {},
          "execution_count": 9
        }
      ]
    },
    {
      "cell_type": "code",
      "source": [
        "#Cross-validated estimators\n",
        "from sklearn import linear_model, datasets\n",
        "lasso = linear_model.LassoCV()\n",
        "X_diabetes, y_diabetes = datasets.load_diabetes(return_X_y=True)\n",
        "lasso.fit(X_diabetes, y_diabetes)\n",
        "# The estimator chose automatically its lambda:\n",
        "lasso.alpha_"
      ],
      "metadata": {
        "colab": {
          "base_uri": "https://localhost:8080/"
        },
        "id": "NfHxFW-oge6A",
        "outputId": "79098dd2-7d8e-4bb3-95c7-dfb13563ddb4"
      },
      "execution_count": 10,
      "outputs": [
        {
          "output_type": "execute_result",
          "data": {
            "text/plain": [
              "0.00375376715269185"
            ]
          },
          "metadata": {},
          "execution_count": 10
        }
      ]
    },
    {
      "cell_type": "code",
      "source": [
        "#Cross-validation on diabetes Dataset Exercise\n",
        "import matplotlib.pyplot as plt\n",
        "import numpy as np\n",
        "\n",
        "from sklearn import datasets\n",
        "from sklearn.linear_model import Lasso\n",
        "from sklearn.model_selection import GridSearchCV\n",
        "\n",
        "X, y = datasets.load_diabetes(return_X_y=True)\n",
        "X = X[:150]\n",
        "y = y[:150]\n",
        "\n",
        "lasso = Lasso(random_state=0, max_iter=10000)\n",
        "alphas = np.logspace(-4, -0.5, 30)\n",
        "\n",
        "tuned_parameters = [{\"alpha\": alphas}]\n",
        "n_folds = 5\n",
        "\n",
        "clf = GridSearchCV(lasso, tuned_parameters, cv=n_folds, refit=False)\n",
        "clf.fit(X, y)\n",
        "scores = clf.cv_results_[\"mean_test_score\"]\n",
        "scores_std = clf.cv_results_[\"std_test_score\"]"
      ],
      "metadata": {
        "id": "4O0Q7dzfgvzg"
      },
      "execution_count": 11,
      "outputs": []
    },
    {
      "cell_type": "code",
      "source": [
        "#Plot error lines showing +/- std. errors of the scores\n",
        "plt.figure().set_size_inches(8, 6)\n",
        "plt.semilogx(alphas, scores)\n",
        "\n",
        "std_error = scores_std / np.sqrt(n_folds)\n",
        "\n",
        "plt.semilogx(alphas, scores + std_error, \"b--\")\n",
        "plt.semilogx(alphas, scores - std_error, \"b--\")\n",
        "\n",
        "# alpha=0.2 controls the translucency of the fill color\n",
        "plt.fill_between(alphas, scores + std_error, scores - std_error, alpha=0.2)\n",
        "\n",
        "plt.ylabel(\"CV score +/- std error\")\n",
        "plt.xlabel(\"alpha\")\n",
        "plt.axhline(np.max(scores), linestyle=\"--\", color=\".5\")\n",
        "plt.xlim([alphas[0], alphas[-1]])"
      ],
      "metadata": {
        "colab": {
          "base_uri": "https://localhost:8080/",
          "height": 563
        },
        "id": "B38moSfRhDka",
        "outputId": "378d6484-e56c-4d98-94df-5490893032b7"
      },
      "execution_count": 12,
      "outputs": [
        {
          "output_type": "execute_result",
          "data": {
            "text/plain": [
              "(0.0001, 0.31622776601683794)"
            ]
          },
          "metadata": {},
          "execution_count": 12
        },
        {
          "output_type": "display_data",
          "data": {
            "text/plain": [
              "<Figure size 800x600 with 1 Axes>"
            ],
            "image/png": "[encoded data removed]"
          },
          "metadata": {}
        }
      ]
    },
    {
      "cell_type": "code",
      "source": [
        "#How much can you trust the selection of alpha?\n",
        "# To answer this question we use the LassoCV object that sets its alpha\n",
        "# parameter automatically from the data by internal cross-validation (i.e. it\n",
        "# performs cross-validation on the training data it receives).\n",
        "# We use external cross-validation to see how much the automatically obtained\n",
        "# alphas differ across different cross-validation folds.\n",
        "\n",
        "from sklearn.linear_model import LassoCV\n",
        "from sklearn.model_selection import KFold\n",
        "\n",
        "lasso_cv = LassoCV(alphas=alphas, random_state=0, max_iter=10000)\n",
        "k_fold = KFold(3)\n",
        "\n",
        "print(\"Answer to the bonus question:\", \"how much can you trust the selection of alpha?\")\n",
        "print()\n",
        "print(\"Alpha parameters maximising the generalization score on different\")\n",
        "print(\"subsets of the data:\")\n",
        "for k, (train, test) in enumerate(k_fold.split(X, y)):\n",
        "    lasso_cv.fit(X[train], y[train])\n",
        "    print(\n",
        "        \"[fold {0}] alpha: {1:.5f}, score: {2:.5f}\".format(\n",
        "            k, lasso_cv.alpha_, lasso_cv.score(X[test], y[test])\n",
        "        )\n",
        "    )\n",
        "print()\n",
        "print(\"Answer: Not very much since we obtained different alphas for different\")\n",
        "print(\"subsets of the data and moreover, the scores for these alphas differ\")\n",
        "print(\"quite substantially.\")\n",
        "\n",
        "plt.show()"
      ],
      "metadata": {
        "colab": {
          "base_uri": "https://localhost:8080/"
        },
        "id": "cWaOxTamhgMC",
        "outputId": "c4ddaaba-8e9c-47fc-9211-a2f8d2bc3b6f"
      },
      "execution_count": 13,
      "outputs": [
        {
          "output_type": "stream",
          "name": "stdout",
          "text": [
            "Answer to the bonus question: how much can you trust the selection of alpha?\n",
            "\n",
            "Alpha parameters maximising the generalization score on different\n",
            "subsets of the data:\n",
            "[fold 0] alpha: 0.05968, score: 0.54209\n",
            "[fold 1] alpha: 0.04520, score: 0.15521\n",
            "[fold 2] alpha: 0.07880, score: 0.45192\n",
            "\n",
            "Answer: Not very much since we obtained different alphas for different\n",
            "subsets of the data and moreover, the scores for these alphas differ\n",
            "quite substantially.\n"
          ]
        }
      ]
    },
    {
      "cell_type": "code",
      "source": [],
      "metadata": {
        "id": "tT-x77qLhx0g"
      },
      "execution_count": null,
      "outputs": []
    }
  ]
}